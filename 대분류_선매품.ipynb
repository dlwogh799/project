{
 "cells": [
  {
   "cell_type": "code",
   "execution_count": 40,
   "id": "9f05c95f",
   "metadata": {},
   "outputs": [],
   "source": [
    "import pandas as pd\n",
    "import numpy as np"
   ]
  },
  {
   "cell_type": "code",
   "execution_count": 44,
   "id": "76d52bce",
   "metadata": {},
   "outputs": [],
   "source": [
    "a=pd.read_csv('대분류세분류테이블.csv',encoding='cp949')"
   ]
  },
  {
   "cell_type": "code",
   "execution_count": 41,
   "id": "38e8bdb1",
   "metadata": {},
   "outputs": [],
   "source": [
    "b=pd.read_csv('17기존고객.csv',encoding='cp949')"
   ]
  },
  {
   "cell_type": "code",
   "execution_count": 42,
   "id": "825ed49c",
   "metadata": {},
   "outputs": [],
   "source": [
    "c=pd.read_csv('16기존고객.csv',encoding='cp949')"
   ]
  },
  {
   "cell_type": "code",
   "execution_count": 47,
   "id": "49994cfe",
   "metadata": {},
   "outputs": [],
   "source": [
    "h=a[(a['소비재분류']=='선매품')]"
   ]
  },
  {
   "cell_type": "code",
   "execution_count": 46,
   "id": "a4176786",
   "metadata": {},
   "outputs": [],
   "source": [
    "# 선매품 구매횟수\n",
    "df_pivot_f1 = pd.pivot_table(h,                # 피벗할 데이터프레임\n",
    "                     index = '고객번호',    # 행 위치에 들어갈 열\n",
    "                     columns = 'QUARTER',    # 열 위치에 들어갈 열\n",
    "                     values = '영수증번호',     # 데이터로 사용할 열\n",
    "                     aggfunc = 'count')   # 데이터 집계함수"
   ]
  },
  {
   "cell_type": "code",
   "execution_count": 48,
   "id": "2eff3d10",
   "metadata": {},
   "outputs": [],
   "source": [
    "df_pivot_f1 = df_pivot_f1.fillna(0)"
   ]
  },
  {
   "cell_type": "code",
   "execution_count": 49,
   "id": "b7353e66",
   "metadata": {},
   "outputs": [],
   "source": [
    "# 8기 드랍 테이블\n",
    "df_pivot_f2 = df_pivot_f1.drop(['8Q'],axis=1)"
   ]
  },
  {
   "cell_type": "code",
   "execution_count": 51,
   "id": "a66e8790",
   "metadata": {},
   "outputs": [],
   "source": [
    "df_pivot_f2['선매품구매횟수'] = df_pivot_f2['1Q'] + df_pivot_f2['2Q'] + df_pivot_f2['3Q'] + df_pivot_f2['4Q'] + df_pivot_f2['5Q']+ df_pivot_f2['6Q'] + df_pivot_f2['7Q']"
   ]
  },
  {
   "cell_type": "code",
   "execution_count": null,
   "id": "3973ed62",
   "metadata": {},
   "outputs": [],
   "source": [
    "df_pivot_f3 = df_pivot_f2.drop(['1Q','2Q','3Q','4Q','5Q','6Q','7Q'],axis=1)"
   ]
  },
  {
   "cell_type": "code",
   "execution_count": null,
   "id": "f6a286be",
   "metadata": {},
   "outputs": [],
   "source": [
    "# 8기 드랍, 1,2,3,4,5,6,7기 구매횟수 합친 값만 나옴\n",
    "df_pivot_f3"
   ]
  },
  {
   "cell_type": "code",
   "execution_count": null,
   "id": "65dde364",
   "metadata": {},
   "outputs": [],
   "source": [
    "# 7기까지 기존고객과 7기까지 총구매횟수 합침\n",
    "tree=pd.merge(b, df_pivot_f3,on='고객번호', how='left')"
   ]
  },
  {
   "cell_type": "code",
   "execution_count": 53,
   "id": "408592f2",
   "metadata": {},
   "outputs": [],
   "source": [
    "# 분기별 구매금액\n",
    "df_pivot_s4 = pd.pivot_table(h,                # 피벗할 데이터프레임\n",
    "                     index = '고객번호',    # 행 위치에 들어갈 열\n",
    "                     columns = 'QUARTER',    # 열 위치에 들어갈 열\n",
    "                     values = '구매금액',     # 데이터로 사용할 열\n",
    "                     aggfunc = 'sum')   # 데이터 집계함수"
   ]
  },
  {
   "cell_type": "code",
   "execution_count": 54,
   "id": "78a4773f",
   "metadata": {},
   "outputs": [],
   "source": [
    "df_pivot_s4 = df_pivot_s4.fillna(0)"
   ]
  },
  {
   "cell_type": "code",
   "execution_count": 55,
   "id": "4fb14264",
   "metadata": {},
   "outputs": [],
   "source": [
    "df_pivot_s5 = df_pivot_s4.drop(['8Q'],axis=1)"
   ]
  },
  {
   "cell_type": "code",
   "execution_count": 56,
   "id": "9eb297d0",
   "metadata": {},
   "outputs": [],
   "source": [
    "# 선매품 등급화\n",
    "aa=df_pivot_s5['1Q'].sort_values(ascending=False)\n",
    "cuts = pd.qcut(aa,10,labels=np.arange(1,11)[::-1])\n",
    "cc=pd.concat([aa,cuts],axis=1)"
   ]
  },
  {
   "cell_type": "code",
   "execution_count": 57,
   "id": "c190f689",
   "metadata": {},
   "outputs": [],
   "source": [
    "lst=['2Q','3Q','4Q','5Q','6Q','7Q']\n",
    "for i in lst:\n",
    "    aa=df_pivot_s5[f'{i}'].sort_values(ascending=False)\n",
    "    \n",
    "    cuts = pd.qcut(aa,10,labels=np.arange(1,11)[::-1])\n",
    "    table=pd.concat([aa,cuts],axis=1)  \n",
    "    cc=pd.merge(cc,table, on='고객번호',how='left')"
   ]
  },
  {
   "cell_type": "code",
   "execution_count": null,
   "id": "5d46aafa",
   "metadata": {},
   "outputs": [],
   "source": [
    "cc.columns=['선매품1','선매품등급1','선매품2','선매품등급2','선매품3','선매품등급3','선매품4','선매품등급4','선매품5','선매품등급5','선매품6','선매품등급6''선매품7','선매품등급7']"
   ]
  },
  {
   "cell_type": "code",
   "execution_count": 22,
   "id": "60b45865",
   "metadata": {},
   "outputs": [],
   "source": [
    "cc = cc.drop(['선매품1','선매품2','선매품3','선매품4','선매품5','선매품6','선매품7'],axis=1)"
   ]
  },
  {
   "cell_type": "code",
   "execution_count": 23,
   "id": "97947d15",
   "metadata": {},
   "outputs": [],
   "source": [
    "cc = cc.reset_index()"
   ]
  },
  {
   "cell_type": "code",
   "execution_count": 24,
   "id": "d7db707f",
   "metadata": {},
   "outputs": [],
   "source": [
    "cc = cc.sort_values('고객번호')"
   ]
  },
  {
   "cell_type": "code",
   "execution_count": null,
   "id": "56036091",
   "metadata": {},
   "outputs": [],
   "source": [
    "# 7기까지 기존고객과 합침\n",
    "tree2=pd.merge(b, cc,on='고객번호', how='left')\n",
    "tree2"
   ]
  },
  {
   "cell_type": "code",
   "execution_count": 33,
   "id": "47238c42",
   "metadata": {},
   "outputs": [],
   "source": [
    "# 증감을 구하기 위해 엑셀로 옮김\n",
    "import csv\n",
    "tree2.to_excel('선매품17.xlsx',encoding='euc-kr',index=False)"
   ]
  },
  {
   "cell_type": "code",
   "execution_count": 33,
   "id": "edc1d6f6",
   "metadata": {},
   "outputs": [],
   "source": [
    "# 구한 증감을 다시 불러옴\n",
    "z= pd.read_excel('선매품17.xlsx')"
   ]
  },
  {
   "cell_type": "code",
   "execution_count": 36,
   "id": "ba1770a9",
   "metadata": {},
   "outputs": [],
   "source": [
    "z = z.drop(['선매품등급1','선매품등급2','선매품등급3','선매품등급4','선매품등급5','선매품등급6','선매품등급7'],axis=1)"
   ]
  },
  {
   "cell_type": "code",
   "execution_count": null,
   "id": "3f863d65",
   "metadata": {},
   "outputs": [],
   "source": [
    "tree3=pd.merge(tree, z,on='고객번호', how='left')"
   ]
  },
  {
   "cell_type": "code",
   "execution_count": 37,
   "id": "3ab551d6",
   "metadata": {},
   "outputs": [],
   "source": [
    "import csv\n",
    "tree3.to_csv('17선매품.csv',mode=\"w\",encoding='euc-kr',index=False)"
   ]
  }
 ],
 "metadata": {
  "kernelspec": {
   "display_name": "Python 3 (ipykernel)",
   "language": "python",
   "name": "python3"
  },
  "language_info": {
   "codemirror_mode": {
    "name": "ipython",
    "version": 3
   },
   "file_extension": ".py",
   "mimetype": "text/x-python",
   "name": "python",
   "nbconvert_exporter": "python",
   "pygments_lexer": "ipython3",
   "version": "3.8.12"
  }
 },
 "nbformat": 4,
 "nbformat_minor": 5
}
